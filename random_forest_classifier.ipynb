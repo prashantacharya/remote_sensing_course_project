{
 "cells": [
  {
   "cell_type": "code",
   "execution_count": 1,
   "metadata": {},
   "outputs": [],
   "source": [
    "image_paths = {\n",
    "    \"2018\": {\n",
    "        \"image\": \"dataset/2018/m_3912112_sw_10_060_20180718.tif\",\n",
    "        \"labels\": \"labels/saved_labels_2018.tif\"\n",
    "    },\n",
    "    \"2020\": {\n",
    "        \"image\": \"dataset/2020/m_3912112_sw_10_060_20200709.tif\",\n",
    "        \"labels\": \"labels/saved_labels_2020.tif\"\n",
    "    },\n",
    "    \"2022\": {\n",
    "        \"image\": \"dataset/2022/dataset/m_3912112_sw_10_060_20220714.tif\",\n",
    "        \"labels\": \"labels/saved_labels_2022.tif\"\n",
    "    }\n",
    "}"
   ]
  },
  {
   "cell_type": "code",
   "execution_count": null,
   "metadata": {},
   "outputs": [],
   "source": []
  }
 ],
 "metadata": {
  "kernelspec": {
   "display_name": "remote_sensing_change_detection",
   "language": "python",
   "name": "python3"
  },
  "language_info": {
   "codemirror_mode": {
    "name": "ipython",
    "version": 3
   },
   "file_extension": ".py",
   "mimetype": "text/x-python",
   "name": "python",
   "nbconvert_exporter": "python",
   "pygments_lexer": "ipython3",
   "version": "3.12.7"
  }
 },
 "nbformat": 4,
 "nbformat_minor": 2
}
