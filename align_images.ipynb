{
 "cells": [
  {
   "cell_type": "code",
   "execution_count": 1,
   "metadata": {},
   "outputs": [],
   "source": [
    "image_paths = {\n",
    "    '2018': 'dataset/2018/m_3912112_sw_10_060_20180718.tif',\n",
    "    '2020': 'dataset/2020/m_3912112_sw_10_060_20200709.tif',\n",
    "    '2022': 'dataset/2022/m_3912112_sw_10_060_20220714.tif'\n",
    "}"
   ]
  },
  {
   "cell_type": "code",
   "execution_count": 5,
   "metadata": {},
   "outputs": [],
   "source": [
    "import rasterio\n",
    "from rasterio.warp import calculate_default_transform, reproject, Resampling\n",
    "\n",
    "ref_path = image_paths[\"2018\"]\n",
    "to_align_path = image_paths[\"2022\"]\n",
    "aligned_output_path = \"dataset/2022/2022_naip_aligned.tif\"\n",
    "\n",
    "# Open the reference raster\n",
    "with rasterio.open(ref_path) as ref:\n",
    "    ref_transform = ref.transform\n",
    "    ref_crs = ref.crs\n",
    "    ref_width = ref.width\n",
    "    ref_height = ref.height\n",
    "\n",
    "# Open the raster to align\n",
    "with rasterio.open(to_align_path) as src:\n",
    "    transform, width, height = calculate_default_transform(\n",
    "        src.crs, \n",
    "        ref_crs, \n",
    "        src.width, \n",
    "        src.height, \n",
    "        *src.bounds,\n",
    "        resolution=(ref_transform.a, ref_transform.e)  # match ref pixel size\n",
    "    )\n",
    "    profile = src.profile.copy()\n",
    "    profile.update({\n",
    "        'crs': ref_crs,\n",
    "        'transform': ref_transform,\n",
    "        'width': ref_width,\n",
    "        'height': ref_height\n",
    "    })\n",
    "    \n",
    "    with rasterio.open(aligned_output_path, 'w', **profile) as dst:\n",
    "        for i in range(1, src.count + 1):\n",
    "            reproject(\n",
    "                source=rasterio.band(src, i),\n",
    "                destination=rasterio.band(dst, i),\n",
    "                src_transform=src.transform,\n",
    "                src_crs=src.crs,\n",
    "                dst_transform=ref_transform,\n",
    "                dst_crs=ref_crs,\n",
    "                resampling=Resampling.cubic\n",
    "            )"
   ]
  }
 ],
 "metadata": {
  "kernelspec": {
   "display_name": "remote_sensing_change_detection",
   "language": "python",
   "name": "python3"
  },
  "language_info": {
   "codemirror_mode": {
    "name": "ipython",
    "version": 3
   },
   "file_extension": ".py",
   "mimetype": "text/x-python",
   "name": "python",
   "nbconvert_exporter": "python",
   "pygments_lexer": "ipython3",
   "version": "3.12.2"
  }
 },
 "nbformat": 4,
 "nbformat_minor": 2
}
